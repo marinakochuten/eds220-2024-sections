{
 "cells": [
  {
   "cell_type": "markdown",
   "id": "83d4b51c-97c5-4544-93b3-aa09b1b99c46",
   "metadata": {},
   "source": [
    "# Snowshoe hares at Bonanza Creek Experimental Forest\n",
    "\n",
    "Week 3 - Discussion section\n",
    "\n",
    "\n",
    "This dataset is about capture-recapture studies of snowshoe hares at 5 locales in the Tanana valley, from Tok in the east to Clear in the west from 1999 to 2002\n",
    "\n",
    "**Citation:**\n",
    "Kielland, K., F.S. Chapin, R.W. Ruess, and Bonanza Creek LTER. 2017. Snowshoe hare physical data in Bonanza Creek Experimental Forest: 1999-Present ver 22. Environmental Data Initiative. https://doi.org/10.6073/pasta/03dce4856d79b91557d8e6ce2cbcdc14 (Accessed 2024-10-17).\n",
    "\n",
    "![Snowshoe Hare (Lepus americanus)](https://upload.wikimedia.org/wikipedia/commons/thumb/8/8a/SNOWSHOE_HARE_%28Lepus_americanus%29_%285-28-2015%29_quoddy_head%2C_washington_co%2C_maine_-01_%2818988734889%29.jpg/1452px-SNOWSHOE_HARE_%28Lepus_americanus%29_%285-28-2015%29_quoddy_head%2C_washington_co%2C_maine_-01_%2818988734889%29.jpg?20170313021652)"
   ]
  },
  {
   "cell_type": "code",
   "execution_count": null,
   "id": "00b39c28-227a-4a08-9fdd-259933473b1b",
   "metadata": {},
   "outputs": [],
   "source": []
  }
 ],
 "metadata": {
  "kernelspec": {
   "display_name": "Anaconda 3 (Base)",
   "language": "python",
   "name": "base"
  },
  "language_info": {
   "codemirror_mode": {
    "name": "ipython",
    "version": 3
   },
   "file_extension": ".py",
   "mimetype": "text/x-python",
   "name": "python",
   "nbconvert_exporter": "python",
   "pygments_lexer": "ipython3",
   "version": "3.9.13"
  }
 },
 "nbformat": 4,
 "nbformat_minor": 5
}
