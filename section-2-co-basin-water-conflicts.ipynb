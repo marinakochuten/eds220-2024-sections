{
 "cells": [
  {
   "cell_type": "markdown",
   "id": "4acd1789-a29b-459c-aacd-3ae2d31772ad",
   "metadata": {},
   "source": [
    "## 1. Archive Exploration\n",
    "\n",
    "#### i. Where was the data collected from?\n",
    "Colorado River Basin (particularly the Upper Colorado River Basin\n",
    "\n",
    "#### ii. During what time frame were the observations in the dataset collected?\n",
    "2005 - 2021\n",
    "\n",
    "#### iii. What was the author’s perceived value of this dataset?\n",
    "To catalogue and understand water-related conflicts in the Colorado River Basin. This benefits the growing human dimension research that USGS Water Mission Area is conducting and may be a source of background information to the water availability assessment reports which USGS is producing as a series of reports over the next few years.\n",
    "\n",
    "**Citation**: Holloman, D.V., Hines, M.K., and Zoanni, D.K., 2023, Coded Water Conflict and Crisis Events in the Colorado River Basin, Derived from LexisNexis search 2005-2021: U.S. Geological Survey data release, https://doi.org/10.5066/P9X6WR7J.\n",
    "\n",
    "**Date of Access**: 10/9/2024"
   ]
  },
  {
   "cell_type": "code",
   "execution_count": null,
   "id": "82d7b2b0-ef73-4828-83b5-604f90195ae2",
   "metadata": {},
   "outputs": [],
   "source": []
  }
 ],
 "metadata": {
  "kernelspec": {
   "display_name": "Anaconda 3 (Base)",
   "language": "python",
   "name": "base"
  },
  "language_info": {
   "codemirror_mode": {
    "name": "ipython",
    "version": 3
   },
   "file_extension": ".py",
   "mimetype": "text/x-python",
   "name": "python",
   "nbconvert_exporter": "python",
   "pygments_lexer": "ipython3",
   "version": "3.9.13"
  }
 },
 "nbformat": 4,
 "nbformat_minor": 5
}
